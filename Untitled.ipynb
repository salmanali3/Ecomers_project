{
 "cells": [
  {
   "cell_type": "code",
   "execution_count": 2,
   "id": "7718c924-1df9-4d95-bcb9-951ec2c8b0cf",
   "metadata": {},
   "outputs": [],
   "source": [
    "import pandas as pd\n",
    "\n",
    "customers = pd.read_csv('customers.csv')\n",
    "products = pd.read_csv('products.csv')\n",
    "orders = pd.read_csv('orders.csv')"
   ]
  },
  {
   "cell_type": "code",
   "execution_count": 3,
   "id": "58077f63-870a-45e1-b266-327304b00288",
   "metadata": {},
   "outputs": [
    {
     "name": "stdout",
     "output_type": "stream",
     "text": [
      "Customers Head:\n",
      "  customer_id      name  age gender               city\n",
      "0       C0001  Jennifer   56   Male      Morrisonmouth\n",
      "1       C0002   William   46   Male  Port Charlesshire\n",
      "2       C0003     Ellen   32   Male  South Thomasmouth\n",
      "3       C0004     Sheri   60   Male         West Megan\n",
      "4       C0005    Taylor   25   Male         Josephland\n",
      "\n",
      "Products Head:\n",
      "  product_id product_name     category   price\n",
      "0       P001        Stage     Clothing  534.93\n",
      "1       P002        Least  Accessories   56.56\n",
      "2       P003       Number         Home  339.92\n",
      "3       P004      Evening     Clothing  138.74\n",
      "4       P005      Protect     Footwear   68.06\n",
      "\n",
      "Orders Head:\n",
      "  order_id customer_id product_id  quantity  order_date\n",
      "0   O00001       C0333       P022         1  2022-01-09\n",
      "1   O00002       C0068       P090         1  2022-01-27\n",
      "2   O00003       C0483       P021         1  2022-01-17\n",
      "3   O00004       C0214       P076         4  2022-01-07\n",
      "4   O00005       C0411       P073         4  2022-01-12\n"
     ]
    }
   ],
   "source": [
    "print(\"Customers Head:\")\n",
    "print(customers.head())\n",
    "print(\"\\nProducts Head:\")\n",
    "print(products.head())\n",
    "print(\"\\nOrders Head:\")\n",
    "print(orders.head())"
   ]
  },
  {
   "cell_type": "code",
   "execution_count": 4,
   "id": "3045d37b-c38d-4617-bb95-ce89e5529f74",
   "metadata": {},
   "outputs": [
    {
     "name": "stdout",
     "output_type": "stream",
     "text": [
      "\n",
      "Customers Info:\n",
      "<class 'pandas.core.frame.DataFrame'>\n",
      "RangeIndex: 500 entries, 0 to 499\n",
      "Data columns (total 5 columns):\n",
      " #   Column       Non-Null Count  Dtype \n",
      "---  ------       --------------  ----- \n",
      " 0   customer_id  500 non-null    object\n",
      " 1   name         500 non-null    object\n",
      " 2   age          500 non-null    int64 \n",
      " 3   gender       500 non-null    object\n",
      " 4   city         500 non-null    object\n",
      "dtypes: int64(1), object(4)\n",
      "memory usage: 19.7+ KB\n",
      "None\n",
      "\n",
      "Products Info:\n",
      "<class 'pandas.core.frame.DataFrame'>\n",
      "RangeIndex: 100 entries, 0 to 99\n",
      "Data columns (total 4 columns):\n",
      " #   Column        Non-Null Count  Dtype  \n",
      "---  ------        --------------  -----  \n",
      " 0   product_id    100 non-null    object \n",
      " 1   product_name  100 non-null    object \n",
      " 2   category      100 non-null    object \n",
      " 3   price         100 non-null    float64\n",
      "dtypes: float64(1), object(3)\n",
      "memory usage: 3.3+ KB\n",
      "None\n",
      "\n",
      "Orders Info:\n",
      "<class 'pandas.core.frame.DataFrame'>\n",
      "RangeIndex: 2584 entries, 0 to 2583\n",
      "Data columns (total 5 columns):\n",
      " #   Column       Non-Null Count  Dtype \n",
      "---  ------       --------------  ----- \n",
      " 0   order_id     2584 non-null   object\n",
      " 1   customer_id  2584 non-null   object\n",
      " 2   product_id   2584 non-null   object\n",
      " 3   quantity     2584 non-null   int64 \n",
      " 4   order_date   2584 non-null   object\n",
      "dtypes: int64(1), object(4)\n",
      "memory usage: 101.1+ KB\n",
      "None\n"
     ]
    }
   ],
   "source": [
    "print(\"\\nCustomers Info:\")\n",
    "print(customers.info())\n",
    "print(\"\\nProducts Info:\")\n",
    "print(products.info())\n",
    "print(\"\\nOrders Info:\")\n",
    "print(orders.info())"
   ]
  },
  {
   "cell_type": "code",
   "execution_count": 5,
   "id": "1d32c048-8649-4692-a5d7-e649c9ab860f",
   "metadata": {},
   "outputs": [],
   "source": [
    "orders['quantity'] = orders['quantity'].fillna(0)\n",
    "products['price'] = products['price'].fillna(0)"
   ]
  },
  {
   "cell_type": "code",
   "execution_count": 6,
   "id": "65a0aaa6-94e5-4dd9-b220-06ba054d13c6",
   "metadata": {},
   "outputs": [
    {
     "name": "stdout",
     "output_type": "stream",
     "text": [
      "\n",
      "Repeat Customers (Orders > 1):\n",
      "customer_id\n",
      "C0028    13\n",
      "C0113    13\n",
      "C0243    12\n",
      "C0338    11\n",
      "C0475    11\n",
      "         ..\n",
      "C0211     2\n",
      "C0165     2\n",
      "C0036     2\n",
      "C0187     2\n",
      "C0042     2\n",
      "Name: count, Length: 485, dtype: int64\n"
     ]
    }
   ],
   "source": [
    "repeat_customers = orders['customer_id'].value_counts()\n",
    "repeat_customers = repeat_customers[repeat_customers > 1] \n",
    "print(\"\\nRepeat Customers (Orders > 1):\")\n",
    "print(repeat_customers)"
   ]
  },
  {
   "cell_type": "code",
   "execution_count": 7,
   "id": "b62bf470-3984-4c67-96a1-69aab76f9f88",
   "metadata": {},
   "outputs": [
    {
     "name": "stdout",
     "output_type": "stream",
     "text": [
      "\n",
      "Top Selling Product:\n",
      "product_name\n",
      "Program    153\n",
      "Name: quantity, dtype: int64\n"
     ]
    }
   ],
   "source": [
    "orders = orders.merge(products[['product_id','product_name','price']], on='product_id', how='left')\n",
    "\n",
    "top_selling = orders.groupby('product_name')['quantity'].sum().sort_values(ascending=False)\n",
    "print(\"\\nTop Selling Product:\")\n",
    "print(top_selling.head(1))"
   ]
  },
  {
   "cell_type": "code",
   "execution_count": 8,
   "id": "f3d3f6f6-2436-435f-953b-f632ed2c22d6",
   "metadata": {},
   "outputs": [
    {
     "name": "stdout",
     "output_type": "stream",
     "text": [
      "\n",
      "Least Selling Product (Consider Discontinue):\n",
      "product_name\n",
      "First    42\n",
      "Name: quantity, dtype: int64\n"
     ]
    }
   ],
   "source": [
    "least_selling = orders.groupby('product_name')['quantity'].sum().sort_values()\n",
    "print(\"\\nLeast Selling Product (Consider Discontinue):\")\n",
    "print(least_selling.head(1))"
   ]
  },
  {
   "cell_type": "code",
   "execution_count": 9,
   "id": "69c0650b-57bf-47ef-bf3c-1736a862e1a9",
   "metadata": {},
   "outputs": [
    {
     "name": "stdout",
     "output_type": "stream",
     "text": [
      "\n",
      "Loyal Customers (Eligible for Extra Discount):\n",
      "customer_id\n",
      "C0028    13\n",
      "C0113    13\n",
      "C0243    12\n",
      "C0338    11\n",
      "C0475    11\n",
      "         ..\n",
      "C0156     6\n",
      "C0490     6\n",
      "C0439     6\n",
      "C0208     6\n",
      "C0398     6\n",
      "Name: count, Length: 202, dtype: int64\n"
     ]
    }
   ],
   "source": [
    "loyal_customers = orders['customer_id'].value_counts()\n",
    "loyal_customers = loyal_customers[loyal_customers > 5]\n",
    "print(\"\\nLoyal Customers (Eligible for Extra Discount):\")\n",
    "print(loyal_customers)"
   ]
  },
  {
   "cell_type": "code",
   "execution_count": 10,
   "id": "be2edce0-96e6-44eb-8ddf-e0abc61f313d",
   "metadata": {},
   "outputs": [
    {
     "name": "stdout",
     "output_type": "stream",
     "text": [
      "\n",
      "Total Income of the Store:\n",
      "4134260.59\n"
     ]
    }
   ],
   "source": [
    "orders['total_price'] = orders['quantity'] * orders['price']\n",
    "total_income = orders['total_price'].sum()\n",
    "print(\"\\nTotal Income of the Store:\")\n",
    "print(total_income)"
   ]
  },
  {
   "cell_type": "code",
   "execution_count": 11,
   "id": "197b766d-c276-4a1a-8e0a-98783cdfe1fb",
   "metadata": {},
   "outputs": [
    {
     "name": "stdout",
     "output_type": "stream",
     "text": [
      "\n",
      "Yearly Sales Report:\n",
      "year\n",
      "2022    1357500.38\n",
      "2023    1489071.01\n",
      "2024    1287689.20\n",
      "Name: total_price, dtype: float64\n"
     ]
    }
   ],
   "source": [
    "orders['order_date'] = pd.to_datetime(orders['order_date'])\n",
    "orders['year'] = orders['order_date'].dt.year\n",
    "\n",
    "yearly_sales = orders.groupby('year')['total_price'].sum()\n",
    "print(\"\\nYearly Sales Report:\")\n",
    "print(yearly_sales)"
   ]
  },
  {
   "cell_type": "code",
   "execution_count": 21,
   "id": "605803c0-1185-4733-a52a-232825c34eea",
   "metadata": {},
   "outputs": [
    {
     "name": "stdout",
     "output_type": "stream",
     "text": [
      "\n",
      " Monthly Sales Report:\n",
      "year  month\n",
      "2022  1        174606.83\n",
      "      2        131429.46\n",
      "      3        147872.95\n",
      "      4         99819.56\n",
      "      5         74185.19\n",
      "      6        125984.33\n",
      "      7         96078.61\n",
      "      8        102602.68\n",
      "      9         95015.46\n",
      "      10        78645.33\n",
      "      11       133063.62\n",
      "      12        98196.36\n",
      "2023  1        108926.39\n",
      "      2        100614.27\n",
      "      3        132403.32\n",
      "      4         81954.66\n",
      "      5        159682.07\n",
      "      6        161371.64\n",
      "      7        113853.06\n",
      "      8        122938.18\n",
      "      9         99777.87\n",
      "      10       140647.43\n",
      "      11       134667.98\n",
      "      12       132234.14\n",
      "2024  1         85660.83\n",
      "      2        145746.19\n",
      "      3         82357.10\n",
      "      4        121439.22\n",
      "      5         94350.64\n",
      "      6        113249.20\n",
      "      7         83719.16\n",
      "      8         82841.26\n",
      "      9        124696.42\n",
      "      10       124655.70\n",
      "      11       113283.46\n",
      "      12       115690.02\n",
      "Name: total_price, dtype: float64\n"
     ]
    }
   ],
   "source": [
    "orders['month'] = orders['order_date'].dt.month\n",
    "monthly_sales = orders.groupby(['year','month'])['total_price'].sum()\n",
    "print(\"\\n Monthly Sales Report:\")\n",
    "print(monthly_sales)"
   ]
  },
  {
   "cell_type": "code",
   "execution_count": 14,
   "id": "bba656b1-1840-4bdb-839a-6750cbe7d6d3",
   "metadata": {},
   "outputs": [],
   "source": [
    "top_product = top_selling.index[0]\n",
    "least_product = least_selling.index[0]\n",
    "loyal_customers_list = loyal_customers.index.tolist()"
   ]
  },
  {
   "cell_type": "code",
   "execution_count": 20,
   "id": "188bd430-7f0d-4d29-8133-99235af9018f",
   "metadata": {},
   "outputs": [
    {
     "name": "stdout",
     "output_type": "stream",
     "text": [
      "Top Product: Program\n",
      "Least Product: First\n",
      "Loyal Customers IDs: ['C0028', 'C0113', 'C0243', 'C0338', 'C0475', 'C0268', 'C0406', 'C0220', 'C0108', 'C0405', 'C0414', 'C0129', 'C0258', 'C0448', 'C0068', 'C0497', 'C0181', 'C0500', 'C0080', 'C0356', 'C0388', 'C0311', 'C0477', 'C0256', 'C0245', 'C0354', 'C0235', 'C0053', 'C0473', 'C0075', 'C0491', 'C0461', 'C0421', 'C0184', 'C0237', 'C0267', 'C0100', 'C0167', 'C0323', 'C0466', 'C0149', 'C0484', 'C0250', 'C0355', 'C0424', 'C0043', 'C0092', 'C0074', 'C0471', 'C0083', 'C0059', 'C0364', 'C0153', 'C0358', 'C0488', 'C0499', 'C0056', 'C0428', 'C0003', 'C0102', 'C0236', 'C0217', 'C0244', 'C0374', 'C0310', 'C0065', 'C0437', 'C0393', 'C0007', 'C0395', 'C0304', 'C0377', 'C0002', 'C0206', 'C0286', 'C0138', 'C0373', 'C0157', 'C0047', 'C0292', 'C0148', 'C0057', 'C0008', 'C0444', 'C0098', 'C0463', 'C0045', 'C0453', 'C0079', 'C0316', 'C0086', 'C0372', 'C0283', 'C0320', 'C0445', 'C0044', 'C0012', 'C0122', 'C0151', 'C0040', 'C0034', 'C0125', 'C0325', 'C0021', 'C0363', 'C0479', 'C0357', 'C0249', 'C0066', 'C0276', 'C0333', 'C0224', 'C0247', 'C0093', 'C0088', 'C0455', 'C0024', 'C0196', 'C0411', 'C0179', 'C0064', 'C0248', 'C0446', 'C0284', 'C0494', 'C0154', 'C0486', 'C0264', 'C0391', 'C0013', 'C0029', 'C0296', 'C0097', 'C0253', 'C0141', 'C0219', 'C0285', 'C0324', 'C0213', 'C0434', 'C0339', 'C0460', 'C0452', 'C0315', 'C0383', 'C0404', 'C0470', 'C0431', 'C0435', 'C0171', 'C0133', 'C0025', 'C0255', 'C0229', 'C0410', 'C0442', 'C0401', 'C0106', 'C0495', 'C0332', 'C0063', 'C0146', 'C0050', 'C0425', 'C0353', 'C0360', 'C0348', 'C0449', 'C0174', 'C0071', 'C0351', 'C0273', 'C0350', 'C0015', 'C0402', 'C0202', 'C0104', 'C0073', 'C0109', 'C0120', 'C0190', 'C0492', 'C0408', 'C0422', 'C0132', 'C0046', 'C0041', 'C0472', 'C0193', 'C0214', 'C0481', 'C0105', 'C0175', 'C0288', 'C0095', 'C0336', 'C0297', 'C0156', 'C0490', 'C0439', 'C0208', 'C0398']\n"
     ]
    }
   ],
   "source": [
    "print(\"Top Product:\", top_product)\n",
    "print(\"Least Product:\", least_product)\n",
    "print(\"Loyal Customers IDs:\", loyal_customers_list)"
   ]
  },
  {
   "cell_type": "code",
   "execution_count": 18,
   "id": "366d1856-d759-4a05-bbd7-43e20b88d9a3",
   "metadata": {},
   "outputs": [
    {
     "name": "stdout",
     "output_type": "stream",
     "text": [
      "\n",
      "\n"
     ]
    }
   ],
   "source": [
    "print(\"\\n\")"
   ]
  }
 ],
 "metadata": {
  "kernelspec": {
   "display_name": "Python 3 (ipykernel)",
   "language": "python",
   "name": "python3"
  },
  "language_info": {
   "codemirror_mode": {
    "name": "ipython",
    "version": 3
   },
   "file_extension": ".py",
   "mimetype": "text/x-python",
   "name": "python",
   "nbconvert_exporter": "python",
   "pygments_lexer": "ipython3",
   "version": "3.13.3"
  }
 },
 "nbformat": 4,
 "nbformat_minor": 5
}
